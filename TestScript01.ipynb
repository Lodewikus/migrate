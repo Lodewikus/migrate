{
    "metadata": {
        "kernelspec": {
            "name": "SQL",
            "display_name": "SQL",
            "language": "sql"
        },
        "language_info": {
            "name": "sql",
            "version": ""
        }
    },
    "nbformat_minor": 2,
    "nbformat": 4,
    "cells": [
        {
            "cell_type": "code",
            "source": [
                "SELECT * FROM device"
            ],
            "metadata": {
                "azdata_cell_guid": "9d8b9691-9d4e-4c9b-a82a-645389d71a9c"
            },
            "outputs": [
                {
                    "output_type": "display_data",
                    "data": {
                        "text/html": "(2 rows affected)"
                    },
                    "metadata": {}
                },
                {
                    "output_type": "display_data",
                    "data": {
                        "text/html": "Total execution time: 00:00:00.251"
                    },
                    "metadata": {}
                },
                {
                    "output_type": "execute_result",
                    "metadata": {},
                    "execution_count": 4,
                    "data": {
                        "application/vnd.dataresource+json": {
                            "schema": {
                                "fields": [
                                    {
                                        "name": "Device ID"
                                    },
                                    {
                                        "name": "Device name"
                                    }
                                ]
                            },
                            "data": [
                                {
                                    "0": "1",
                                    "1": "Device 1  "
                                },
                                {
                                    "0": "2",
                                    "1": "Device 2  "
                                }
                            ]
                        },
                        "text/html": [
                            "<table>",
                            "<tr><th>Device ID</th><th>Device name</th></tr>",
                            "<tr><td>1</td><td>Device 1  </td></tr>",
                            "<tr><td>2</td><td>Device 2  </td></tr>",
                            "</table>"
                        ]
                    }
                }
            ],
            "execution_count": 4
        },
        {
            "cell_type": "code",
            "source": [
                "SELECT * FROM Persons"
            ],
            "metadata": {
                "azdata_cell_guid": "0dc5755b-bdb4-442e-ae68-0eec2308ca69"
            },
            "outputs": [
                {
                    "output_type": "display_data",
                    "data": {
                        "text/html": "(1 row affected)"
                    },
                    "metadata": {}
                },
                {
                    "output_type": "display_data",
                    "data": {
                        "text/html": "Total execution time: 00:00:01.571"
                    },
                    "metadata": {}
                },
                {
                    "output_type": "execute_result",
                    "metadata": {},
                    "execution_count": 3,
                    "data": {
                        "application/vnd.dataresource+json": {
                            "schema": {
                                "fields": [
                                    {
                                        "name": "PersonID"
                                    },
                                    {
                                        "name": "LastName"
                                    },
                                    {
                                        "name": "FirstName"
                                    },
                                    {
                                        "name": "Address"
                                    },
                                    {
                                        "name": "City"
                                    },
                                    {
                                        "name": "phone"
                                    }
                                ]
                            },
                            "data": [
                                {
                                    "0": "1",
                                    "1": "Olivier",
                                    "2": "Wikus",
                                    "3": "Stompneus 8",
                                    "4": "Struisbaai",
                                    "5": "NULL"
                                }
                            ]
                        },
                        "text/html": [
                            "<table>",
                            "<tr><th>PersonID</th><th>LastName</th><th>FirstName</th><th>Address</th><th>City</th><th>phone</th></tr>",
                            "<tr><td>1</td><td>Olivier</td><td>Wikus</td><td>Stompneus 8</td><td>Struisbaai</td><td>NULL</td></tr>",
                            "</table>"
                        ]
                    }
                }
            ],
            "execution_count": 3
        }
    ]
}