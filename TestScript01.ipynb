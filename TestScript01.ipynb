{
    "metadata": {
        "kernelspec": {
            "name": "SQL",
            "display_name": "SQL",
            "language": "sql"
        },
        "language_info": {
            "name": "sql",
            "version": ""
        }
    },
    "nbformat_minor": 2,
    "nbformat": 4,
    "cells": [
        {
            "cell_type": "code",
            "source": [
                "SELECT * FROM device"
            ],
            "metadata": {
                "azdata_cell_guid": "9d8b9691-9d4e-4c9b-a82a-645389d71a9c"
            },
            "outputs": [],
            "execution_count": null
        },
        {
            "cell_type": "code",
            "source": [
                "SELECT * FROM Persons"
            ],
            "metadata": {
                "azdata_cell_guid": "0dc5755b-bdb4-442e-ae68-0eec2308ca69"
            },
            "outputs": [],
            "execution_count": null
        }
    ]
}